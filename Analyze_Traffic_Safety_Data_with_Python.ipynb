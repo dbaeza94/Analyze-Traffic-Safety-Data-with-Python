{
  "cells": [
    {
      "cell_type": "markdown",
      "metadata": {
        "id": "view-in-github",
        "colab_type": "text"
      },
      "source": [
        "<a href=\"https://colab.research.google.com/github/dbaeza94/Analyze-Traffic-Safety-Data-with-Python/blob/main/Analyze_Traffic_Safety_Data_with_Python.ipynb\" target=\"_parent\"><img src=\"https://colab.research.google.com/assets/colab-badge.svg\" alt=\"Open In Colab\"/></a>"
      ]
    },
    {
      "cell_type": "markdown",
      "id": "b2fab78e",
      "metadata": {
        "id": "b2fab78e"
      },
      "source": [
        "# Analyze Traffic Safety Data with Python\n",
        "\n",
        "### Try some of these resources for extra help as you work:\n",
        "\n",
        "* [View the Analyze Traffic Safety Data with Python cheatsheet](https://www.codecademy.com/learn/case-study-analyze-traffic-safety/modules/traffic-safety-case-study/cheatsheet)\n",
        "* [Learn more about analyzing traffic safety data in this introductory article](https://www.codecademy.com/courses/case-study-analyze-traffic-safety/articles/analyze-traffic-safety-data-with-python-article)\n",
        "* Thanks to Codecademy to make it possible"
      ]
    },
    {
      "cell_type": "code",
      "execution_count": null,
      "id": "8cc870b1",
      "metadata": {
        "id": "8cc870b1"
      },
      "outputs": [],
      "source": [
        "import pandas as pd\n",
        "import datetime as dt\n",
        "from scipy.stats import pearsonr\n",
        "from sklearn.linear_model import LinearRegression\n",
        "import seaborn as sns\n",
        "import matplotlib.pyplot as plt\n",
        "\n",
        "\n",
        "%matplotlib inline\n",
        "# set plot theme and palette\n",
        "sns.set_theme()\n",
        "sns.set_palette('colorblind')"
      ]
    },
    {
      "cell_type": "markdown",
      "id": "4c5a1426",
      "metadata": {
        "id": "4c5a1426"
      },
      "source": [
        "## Traffic data exploration"
      ]
    },
    {
      "cell_type": "markdown",
      "id": "347264a9",
      "metadata": {
        "id": "347264a9"
      },
      "source": [
        "### 1. Inspect the traffic safety dataset\n",
        "\n",
        "After running the first cell to load all necessary libraries, we need to load our dataset. Using pandas, load the dataset `traffic.csv` and save it as `traffic`. Inspect the first few rows."
      ]
    },
    {
      "cell_type": "code",
      "execution_count": null,
      "id": "ff05693b",
      "metadata": {
        "colab": {
          "base_uri": "https://localhost:8080/",
          "height": 206
        },
        "id": "ff05693b",
        "outputId": "64cdedc3-5d4f-4f19-fe71-21b1a3dfc91b",
        "scrolled": true
      },
      "outputs": [
        {
          "data": {
            "text/html": [
              "<div>\n",
              "<style scoped>\n",
              "    .dataframe tbody tr th:only-of-type {\n",
              "        vertical-align: middle;\n",
              "    }\n",
              "\n",
              "    .dataframe tbody tr th {\n",
              "        vertical-align: top;\n",
              "    }\n",
              "\n",
              "    .dataframe thead th {\n",
              "        text-align: right;\n",
              "    }\n",
              "</style>\n",
              "<table border=\"1\" class=\"dataframe\">\n",
              "  <thead>\n",
              "    <tr style=\"text-align: right;\">\n",
              "      <th></th>\n",
              "      <th>Date</th>\n",
              "      <th>Crashes_per_100k</th>\n",
              "      <th>Season</th>\n",
              "    </tr>\n",
              "  </thead>\n",
              "  <tbody>\n",
              "    <tr>\n",
              "      <th>0</th>\n",
              "      <td>2006-01-01</td>\n",
              "      <td>169.176541</td>\n",
              "      <td>Winter</td>\n",
              "    </tr>\n",
              "    <tr>\n",
              "      <th>1</th>\n",
              "      <td>2006-02-01</td>\n",
              "      <td>154.028836</td>\n",
              "      <td>Winter</td>\n",
              "    </tr>\n",
              "    <tr>\n",
              "      <th>2</th>\n",
              "      <td>2006-03-01</td>\n",
              "      <td>159.930002</td>\n",
              "      <td>Spring</td>\n",
              "    </tr>\n",
              "    <tr>\n",
              "      <th>3</th>\n",
              "      <td>2006-04-01</td>\n",
              "      <td>155.741270</td>\n",
              "      <td>Spring</td>\n",
              "    </tr>\n",
              "    <tr>\n",
              "      <th>4</th>\n",
              "      <td>2006-05-01</td>\n",
              "      <td>168.179208</td>\n",
              "      <td>Spring</td>\n",
              "    </tr>\n",
              "  </tbody>\n",
              "</table>\n",
              "</div>"
            ],
            "text/plain": [
              "         Date  Crashes_per_100k  Season\n",
              "0  2006-01-01        169.176541  Winter\n",
              "1  2006-02-01        154.028836  Winter\n",
              "2  2006-03-01        159.930002  Spring\n",
              "3  2006-04-01        155.741270  Spring\n",
              "4  2006-05-01        168.179208  Spring"
            ]
          },
          "execution_count": 24,
          "metadata": {},
          "output_type": "execute_result"
        }
      ],
      "source": [
        "# load dataset\n",
        "df = pd.read_csv('traffic.csv')\n",
        "\n",
        "# inspect first few rows\n",
        "df.head(5)"
      ]
    },
    {
      "cell_type": "markdown",
      "id": "72c9daa3",
      "metadata": {
        "id": "72c9daa3"
      },
      "source": [
        "### 2. Inspect and format data types\n",
        "\n",
        "The `traffic` data frame contains three columns: `Date`, `Crashes_per_100k`, and `Season`. In order to plot the `Crashes_per_100k` column as a time series, we need to make sure that the `Date` column is in date format. Inspect the data types in the data frame, convert the `Date` column to date format, and inspect the data types a second time."
      ]
    },
    {
      "cell_type": "code",
      "execution_count": null,
      "id": "384c95dc",
      "metadata": {
        "colab": {
          "base_uri": "https://localhost:8080/"
        },
        "id": "384c95dc",
        "outputId": "cfa04edd-02a2-4289-86b5-67816804c57c"
      },
      "outputs": [
        {
          "name": "stdout",
          "output_type": "stream",
          "text": [
            "<class 'pandas.core.frame.DataFrame'>\n",
            "RangeIndex: 180 entries, 0 to 179\n",
            "Data columns (total 3 columns):\n",
            " #   Column            Non-Null Count  Dtype  \n",
            "---  ------            --------------  -----  \n",
            " 0   Date              180 non-null    object \n",
            " 1   Crashes_per_100k  180 non-null    float64\n",
            " 2   Season            180 non-null    object \n",
            "dtypes: float64(1), object(2)\n",
            "memory usage: 4.3+ KB\n"
          ]
        }
      ],
      "source": [
        "# inspect data types\n",
        "df.info()\n"
      ]
    },
    {
      "cell_type": "markdown",
      "id": "838104c7",
      "metadata": {
        "id": "838104c7"
      },
      "source": [
        "<details>\n",
        "    <summary style=\"display:list-item; font-size:16px; color:blue;\"><i>What did we discover in this step? Toggle to check!</i></summary>\n",
        "\n",
        "The `traffic` dataframe consists of 3 columns and 180 rows. Luckily, there are no missing data to contend with. The number of crashes is normalized to the annual population per 100,000 people. We will also need to format the `Date` variable since Python does not yet recognize it as a datetime variable.\n",
        "\n",
        "\n",
        "</details>"
      ]
    },
    {
      "cell_type": "markdown",
      "id": "a7d47bed",
      "metadata": {
        "id": "a7d47bed"
      },
      "source": [
        "Convert the `Date` column to the date datatype using the `pd.to_datatime(column)` function."
      ]
    },
    {
      "cell_type": "code",
      "execution_count": null,
      "id": "8d8677d2",
      "metadata": {
        "colab": {
          "base_uri": "https://localhost:8080/"
        },
        "id": "8d8677d2",
        "outputId": "480c07db-68fd-4516-e68d-2dc742d5f81a"
      },
      "outputs": [
        {
          "data": {
            "text/plain": [
              "Date                datetime64[ns]\n",
              "Crashes_per_100k           float64\n",
              "Season                      object\n",
              "dtype: object"
            ]
          },
          "execution_count": 26,
          "metadata": {},
          "output_type": "execute_result"
        }
      ],
      "source": [
        "# convert Date to date format\n",
        "df['Date'] = pd.to_datetime(df['Date'])\n",
        "# inspect data types\n",
        "df.dtypes"
      ]
    },
    {
      "cell_type": "markdown",
      "id": "e8680cbf",
      "metadata": {
        "id": "e8680cbf"
      },
      "source": [
        "<details>\n",
        "    <summary style=\"display:list-item; font-size:16px; color:blue;\"><i>What did we discover in this step? Toggle to check!</i></summary>\n",
        "\n",
        "By using the `pd.to_datetime()` function, we converted a character string object to the `datetime64[ns]` datatype. This will allow us to plot a time series of data points.\n",
        "\n",
        "</details>"
      ]
    },
    {
      "cell_type": "markdown",
      "id": "9b022de9",
      "metadata": {
        "id": "9b022de9"
      },
      "source": [
        "### 3. Visualize traffic safety data\n",
        "To get a sense of trends that may exist in the data, use seaborn's `sns.lineplot()` function to create a line plot of the `traffic` data with `Date` on the x-axis and `Crashes_per_100k` on the y-axis."
      ]
    },
    {
      "cell_type": "code",
      "execution_count": null,
      "id": "cc61ee21",
      "metadata": {
        "colab": {
          "base_uri": "https://localhost:8080/",
          "height": 285
        },
        "id": "cc61ee21",
        "outputId": "32d67125-a9fa-4eb3-feb9-d6e94bd6bfe1",
        "scrolled": true
      },
      "outputs": [
        {
          "data": {
            "text/plain": [
              "<function matplotlib.pyplot.show(close=None, block=None)>"
            ]
          },
          "execution_count": 27,
          "metadata": {},
          "output_type": "execute_result"
        },
        {
          "data": {
            "image/png": "[encoded data removed]",
            "text/plain": [
              "<Figure size 640x480 with 1 Axes>"
            ]
          },
          "metadata": {},
          "output_type": "display_data"
        }
      ],
      "source": [
        "# create line plot\n",
        "sns.lineplot(x= 'Date', y= 'Crashes_per_100k', data= df)\n",
        "plt.show"
      ]
    },
    {
      "cell_type": "markdown",
      "id": "21771d7f",
      "metadata": {
        "id": "21771d7f"
      },
      "source": [
        "<details>\n",
        "    <summary style=\"display:list-item; font-size:16px; color:blue;\"><i>What did we discover in this step? Toggle to check!</i></summary>\n",
        "\n",
        "Looking at the line plot of our collision data, we can see the decreasing trend in crash rates from 2006 continuing until 2010 or 2011, and then crash rates begin increasing. The data for 2020 is very different from the preceding years.\n",
        "    \n",
        "There also appear to be cyclical patterns, which may indicate differing crash rates by season.\n",
        "\n",
        "</details>"
      ]
    },
    {
      "cell_type": "markdown",
      "id": "328a0a2c",
      "metadata": {
        "id": "328a0a2c"
      },
      "source": [
        "### 4. Visualize seasonal rates\n",
        "\n",
        "Since we saw a fair amount of variance in the number of collisions occurring throughout the year, we might hypothesize that the number of collisions increases or decreases during different seasons. We can visually explore this with a box plot. \n",
        "\n",
        "Use `sns.boxplot()` with crash rate on the x-axis and season on the y-axis. Remove the anomolous 2020 data by adjusting the `data` parameter to `traffic[traffic.Date.dt.year != 2020]`."
      ]
    },
    {
      "cell_type": "code",
      "execution_count": null,
      "id": "1a9f883b",
      "metadata": {
        "colab": {
          "base_uri": "https://localhost:8080/",
          "height": 285
        },
        "id": "1a9f883b",
        "outputId": "1a941981-fa8f-4e13-db11-09ebdaaf4809"
      },
      "outputs": [
        {
          "data": {
            "image/png": "[encoded data removed]",
            "text/plain": [
              "<Figure size 640x480 with 1 Axes>"
            ]
          },
          "metadata": {},
          "output_type": "display_data"
        }
      ],
      "source": [
        "# create box plot by season\n",
        "sns.boxplot(x = 'Crashes_per_100k', y='Season', data = df[df.Date.dt.year != 2020])\n",
        "plt.show()"
      ]
    },
    {
      "cell_type": "markdown",
      "id": "f77011a6",
      "metadata": {
        "id": "f77011a6"
      },
      "source": [
        "<details>\n",
        "    <summary style=\"display:list-item; font-size:16px; color:blue;\"><i>What did we discover in this step? Toggle to check!</i></summary>\n",
        "\n",
        "Winter and Fall appear to have generally higher crash rates than Spring and Summer. Seasons may be the reason for the pattern in crash rates.\n",
        "\n",
        "</details>"
      ]
    },
    {
      "cell_type": "markdown",
      "id": "2b608d90",
      "metadata": {
        "id": "2b608d90"
      },
      "source": [
        "## Smartphone data exploration"
      ]
    },
    {
      "cell_type": "markdown",
      "id": "53e74299",
      "metadata": {
        "id": "53e74299"
      },
      "source": [
        "### 5. Inspect the smartphone use dataset\n",
        "\n",
        "The dataset `crashes_smartphones.csv` contains smartphone data from Pew Research Center matched to normalized crash rates from the `traffic` data frame for the years 2011 to 2019.\n",
        "\n",
        "<details>\n",
        "    <summary style=\"display:list-item;\"><b>Toggle for an overview of the variables in this dataset.</b></summary>\n",
        "\n",
        "* `Month_Year`: a shortened date with only the month and year of the survey\n",
        "* `Crashes_per_100k`: the normalized crash rate matching the month and year of the smartphone usage survey\n",
        "* `Season`: Winter, Spring, Summer, or Fall\n",
        "* `Smartphone_Survey_Date`: the actual date the smartphone usage survey was conducted\n",
        "* `Smartphone_usage`: the percent of survey participants that owned and used a smartphone\n",
        "\n",
        "</details>\n",
        "\n",
        "Load the dataset as `smartphones` and inspect the first few rows."
      ]
    },
    {
      "cell_type": "code",
      "execution_count": null,
      "id": "fa8f1669",
      "metadata": {
        "id": "fa8f1669"
      },
      "outputs": [],
      "source": [
        "# import dataset\n",
        "smartphones = pd.read_csv('crashes_smartphones.csv')\n",
        "\n",
        "# inspect first few rows\n",
        "smartphones.head(5)"
      ]
    },
    {
      "cell_type": "markdown",
      "id": "6f6e4922",
      "metadata": {
        "id": "6f6e4922"
      },
      "source": [
        "### 6. Format date data type\n",
        "Similar to the  `traffic` data frame, the `smartphones` data frame has a date column that is not properly formatted. Convert the `Smartphone_Survey_Date` column to the date data type using the `pd.to_datetime()` function and then inspect the data types in the data frame."
      ]
    },
    {
      "cell_type": "code",
      "execution_count": null,
      "id": "77178bee",
      "metadata": {
        "id": "77178bee"
      },
      "outputs": [],
      "source": [
        "# change to datetime object\n",
        "smartphones['Smartphone_Survey_Date'] = pd.to_datetime(smartphones['Smartphone_Survey_Date'])\n",
        "\n",
        "# inspect data types\n",
        "smartphones.info()"
      ]
    },
    {
      "cell_type": "markdown",
      "id": "17f6b99f",
      "metadata": {
        "id": "17f6b99f"
      },
      "source": [
        "<details>\n",
        "    <summary style=\"display:list-item; font-size:16px; color:blue;\"><i>What did we discover in this step? Toggle to check!</i></summary>\n",
        "\n",
        "There is a lot less data available for smartphone usage rates than there was for crash rates. The `smartphones` dataframe consists of 5 columns and 28 rows. Luckily, there are no missing data to contend with.\n",
        "\n",
        "\n",
        "</details>"
      ]
    },
    {
      "cell_type": "markdown",
      "id": "2248c64d",
      "metadata": {
        "id": "2248c64d"
      },
      "source": [
        "### 7. Visualize smartphone use data\n",
        "Now let's take a look at smartphone use over time. Create a line plot of the `smartphones` data with `Smartphone_Survey_Date` on the x-axis and `Smartphone_usage` on the y-axis."
      ]
    },
    {
      "cell_type": "code",
      "execution_count": null,
      "id": "fd1c6dc4",
      "metadata": {
        "id": "fd1c6dc4",
        "scrolled": true
      },
      "outputs": [],
      "source": [
        "# create line plot\n",
        "sns.lineplot(x= 'Smartphone_Survey_Date', y= 'Smartphone_usage', data= smartphones)\n",
        "plt.show"
      ]
    },
    {
      "cell_type": "markdown",
      "id": "cc6a3411",
      "metadata": {
        "id": "cc6a3411"
      },
      "source": [
        "<details>\n",
        "    <summary style=\"display:list-item; font-size:16px; color:blue;\"><i>What did we discover in this step? Toggle to check!</i></summary>\n",
        "\n",
        "We can see a trend of smartphone usage increasing over time.\n",
        "\n",
        "</details>"
      ]
    },
    {
      "cell_type": "markdown",
      "id": "1ce54e7e",
      "metadata": {
        "id": "1ce54e7e"
      },
      "source": [
        "## Relationship exploration"
      ]
    },
    {
      "cell_type": "markdown",
      "id": "30d66b8f",
      "metadata": {
        "id": "30d66b8f"
      },
      "source": [
        "### 8. Visualize crash rate by smartphone use\n",
        "A scatter plot with smartphone usage on one axis and crash rates on the other axis will give us an idea of whether there is a relationship between these two variables. \n",
        "\n",
        "Create a scatter plot with a regression line using seaborn's `sns.regplot()` with `Smartphone_usage` on the x-axis and `Crashes_per_100k` on the y-axis."
      ]
    },
    {
      "cell_type": "code",
      "execution_count": null,
      "id": "5576adaa",
      "metadata": {
        "id": "5576adaa",
        "scrolled": true
      },
      "outputs": [],
      "source": [
        "# create scatter plot with regression line\n",
        "sns.regplot(x = 'Smartphone_usage', y = 'Crashes_per_100k', data = smartphones)"
      ]
    },
    {
      "cell_type": "markdown",
      "id": "37d4c0d8",
      "metadata": {
        "id": "37d4c0d8"
      },
      "source": [
        "<details>\n",
        "    <summary style=\"display:list-item; font-size:16px; color:blue;\"><i>What did we discover in this step? Toggle to check!</i></summary>\n",
        "\n",
        "There appears to be a positive linear relationship between the rate of car crashes and the rate of adult smartphone usage in the U.S.\n",
        "\n",
        "</details>"
      ]
    },
    {
      "cell_type": "markdown",
      "id": "1bbf2930",
      "metadata": {
        "id": "1bbf2930"
      },
      "source": [
        "### 9. Check the correlation coefficient\n",
        "\n",
        "To test whether the correlation between `Smartphone_usage` and `Crashes_per_100k` is statistically significant, we can calculate the Pearson's _r_ correlation coefficient and the associated _p_-value. \n",
        "\n",
        "Use `corr, p = pearsonr(column1, column2)` on the `Smartphone_usage` and `Crashes_per_100k` columns in the `smartphones` dataframe. Then use the provided code to print `corr` and `p` to see the results."
      ]
    },
    {
      "cell_type": "code",
      "execution_count": null,
      "id": "b0ebdb9f",
      "metadata": {
        "id": "b0ebdb9f"
      },
      "outputs": [],
      "source": [
        "# find Pearson's r and p-value\n",
        "corr, p = pearsonr(smartphones.Smartphone_usage, smartphones.Crashes_per_100k)\n",
        "\n",
        "# print corr and p\n",
        "print(\"Pearson's r =\",  round(corr,3))\n",
        "print(\"p = \", round(p,3))"
      ]
    },
    {
      "cell_type": "markdown",
      "id": "d744043c",
      "metadata": {
        "id": "d744043c"
      },
      "source": [
        "<details>\n",
        "    <summary style=\"display:list-item; font-size:16px; color:blue;\"><i>What did we discover in this step? Toggle to check!</i></summary>\n",
        "\n",
        "The Pearson's r correlation coefficient is greater than 0.5, which indicates a moderately strong positive relationship. The p-value is less than 0.05. Together, this tells us that there is a statistically significant correlation between adult smartphone usage rates and car crash rates in the U.S. We have to be careful though: correlation does not mean causation, as the saying goes. Many other factors may be contributing to the rise in car crash rates from 2011 to 2019. \n",
        "\n",
        "</details>"
      ]
    },
    {
      "cell_type": "markdown",
      "id": "48c21f67",
      "metadata": {
        "id": "48c21f67"
      },
      "source": [
        "## Analysis"
      ]
    },
    {
      "cell_type": "markdown",
      "id": "211af520",
      "metadata": {
        "id": "211af520"
      },
      "source": [
        "### 10. Run a linear regression\n",
        "We can use a linear regression to predict crash rates based on smart phone usage. Let's regress crash rates on smartphone usage. Then we can predict the crash rate in 2020 and see if it matches the actual crash rate in 2020!\n",
        "\n",
        "We have provided the code to convert the variables to NumPy arrays that will work with the modeling function. The `Smartphone_usage` array is saved as `X`, and the `Crashes_per_100k` array is saved as `y`.\n",
        "\n",
        "Initiate the model by saving `LinearRegression()` to the variable `lm`. Then fit the model and run the regression with `.fit()`."
      ]
    },
    {
      "cell_type": "code",
      "execution_count": null,
      "id": "vJThaPpvil3g",
      "metadata": {
        "id": "vJThaPpvil3g"
      },
      "outputs": [],
      "source": [
        "# convert columns to arrays\n",
        "X = smartphones['Smartphone_usage'].to_numpy().reshape(-1, 1)\n",
        "y = smartphones['Crashes_per_100k'].to_numpy().reshape(-1, 1)"
      ]
    },
    {
      "cell_type": "code",
      "execution_count": null,
      "id": "b_SoKHv6jQXX",
      "metadata": {
        "id": "b_SoKHv6jQXX"
      },
      "outputs": [],
      "source": [
        "# initiate the linear regression model\n",
        "lm =LinearRegression()\n",
        "\n",
        "# fit the model\n",
        "lm.fit(X, y)"
      ]
    },
    {
      "cell_type": "markdown",
      "id": "c31f3ac6",
      "metadata": {
        "id": "c31f3ac6"
      },
      "source": [
        "### 11. Print and interpret regression coefficients\n",
        "\n",
        "Let's see the values our model produced. Print the coefficients from our `lm` model. Then think about which parts of the regression line equation these values represent."
      ]
    },
    {
      "cell_type": "code",
      "execution_count": null,
      "id": "721ab861",
      "metadata": {
        "id": "721ab861"
      },
      "outputs": [],
      "source": [
        "# print the coefficients \n",
        "print(\"Coefficients: \\n\",lm.intercept_, lm.coef_)"
      ]
    },
    {
      "cell_type": "markdown",
      "id": "ygZ3fFD_-HY8",
      "metadata": {
        "id": "ygZ3fFD_-HY8"
      },
      "source": [
        "<details>\n",
        "    <summary style=\"display:list-item; font-size:16px; color:blue;\"><i>What did we discover in this step? Toggle to check!</i></summary>\n",
        "\n",
        "The generic equation for a line is `y = b + (m * x)`, where `b` is the value where the the line intercepts the y-axis and `m` is the slope of the line. In this step, we learned the two coefficients of our linear model, `b = 120.6637` and `m = 0.6610`. So the equation for our linear model is `y = 120.6637 + (0.6610 * x)` and we can use this equation to predict new values of y from any new value of x.\n",
        "    \n",
        "We can also interpret the slope of 0.6610: every additional percentage point of smartphone usage is associated with an additional 0.6610 crashes per 100,000 people.\n",
        "</details>"
      ]
    },
    {
      "cell_type": "markdown",
      "id": "a7157c02",
      "metadata": {
        "id": "a7157c02"
      },
      "source": [
        "### 12. Make a prediction\n",
        "\n",
        "Let's assume smartphone usage was the same for 2020 as it was for 2019. This is a reasonable asssumption since the increase in smartphone usage that we observed in our plot started to plateau at the end of the time series. Let's use this approximation and our regression model to predict the crash rate in 2020.\n",
        "\n",
        "From our model output, the regression line equation is `Crashes_per_100k = 120.6637 + (0.6610 * Smartphone_usage)`. Run the provided code to view the smartphone usage rate for 2019. Then substitute this value into the equation, using Python as a calculator to predict the crash rate for 2020."
      ]
    },
    {
      "cell_type": "code",
      "execution_count": null,
      "id": "59988a50",
      "metadata": {
        "id": "59988a50",
        "scrolled": false
      },
      "outputs": [],
      "source": [
        "# get the smartphone usage rate from 2019\n",
        "smartphones[smartphones['Month_Year'] == \"Feb-19\"].Smartphone_usage"
      ]
    },
    {
      "cell_type": "code",
      "execution_count": null,
      "id": "5mcupBM5pEaN",
      "metadata": {
        "id": "5mcupBM5pEaN"
      },
      "outputs": [],
      "source": [
        "# predict the crash rate in 2020 using the regression equation\n",
        "predicted = 120.6637 + (0.6610 *81)\n",
        "predicted"
      ]
    },
    {
      "cell_type": "markdown",
      "id": "SKEm_SvPAuDH",
      "metadata": {
        "id": "SKEm_SvPAuDH"
      },
      "source": [
        "<details>\n",
        "    <summary style=\"display:list-item; font-size:16px; color:blue;\"><i>What did we discover in this step? Toggle to check!</i></summary>\n",
        "\n",
        "If the smartphone usage rate was the same in 2020 as in 2019 (81%), our model predicts that the crash rate in 2020 would be 174.205 crashes per 100,000 people.  \n",
        "\n",
        "</details>"
      ]
    },
    {
      "cell_type": "markdown",
      "id": "eb98f84b",
      "metadata": {
        "id": "eb98f84b"
      },
      "source": [
        "### 13. Compare to the actual rate\n",
        "\n",
        "How good was our prediction? Get the actual crash rate for February of 2020 from the `traffic` dataframe using `pd.to_datetime(\"2020-02-01\")` as the value for `Date`."
      ]
    },
    {
      "cell_type": "code",
      "execution_count": null,
      "id": "40_QV3vrrS7v",
      "metadata": {
        "id": "40_QV3vrrS7v"
      },
      "outputs": [],
      "source": [
        "# get the actual crash rate in Feb 2020\n",
        "actual = df[df['Date'] == pd.to_datetime(\"2020-02-01\")]\n",
        "actual"
      ]
    },
    {
      "cell_type": "markdown",
      "id": "BjcAJewtBoMG",
      "metadata": {
        "id": "BjcAJewtBoMG"
      },
      "source": [
        "<details>\n",
        "    <summary style=\"display:list-item; font-size:16px; color:blue;\"><i>What did we discover in this step? Toggle to check!</i></summary>\n",
        "\n",
        "The actual crash rate in Februrary of 2020 was only 157.8895, which was a fair bit lower than our prediction. \n",
        "\n",
        "</details>"
      ]
    },
    {
      "cell_type": "markdown",
      "id": "727f8b10",
      "metadata": {
        "id": "727f8b10"
      },
      "source": [
        "### 14. Visualize the prediction\n",
        "\n",
        "Let's plot our regression plot again, but let's add two new points on top:\n",
        "\n",
        "* The predicted 2020 crash rate\n",
        "* The actual 2020 crash rate\n",
        "\n",
        "Code has been provided for the original regression plot and a legend title. \n",
        "\n",
        "Add a scatter plot layer to add the 2020 predicted and actual crash rates that both used the 2019 smartphone usage rate. Use different colors and marker shapes for the predicted and actual 2020 crash rates."
      ]
    },
    {
      "cell_type": "code",
      "execution_count": null,
      "id": "8e5de054",
      "metadata": {
        "colab": {
          "base_uri": "https://localhost:8080/",
          "height": 285
        },
        "id": "8e5de054",
        "outputId": "e811ca03-73f1-4b4c-d434-3cc416088c33"
      },
      "outputs": [
        {
          "data": {
            "image/png": "[encoded data removed]",
            "text/plain": [
              "<Figure size 640x480 with 1 Axes>"
            ]
          },
          "metadata": {},
          "output_type": "display_data"
        }
      ],
      "source": [
        "# recreate the regression plot we made earlier\n",
        "sns.regplot(x = 'Smartphone_usage', y = 'Crashes_per_100k', data = smartphones)\n",
        "\n",
        "\n",
        "# add a scatter plot layer to show the actual and predicted 2020 values\n",
        "sns.scatterplot(x = [81,81], y = [174.20, 157.88], \n",
        "hue = ['predicted','actual'] , style = ['predicted','actual'], \n",
        "markers = ['X','o'], palette=['navy','orange'], s=200)\n",
        "\n",
        "# add legend title\n",
        "plt.legend(title='2020')\n",
        "plt.show()"
      ]
    },
    {
      "cell_type": "markdown",
      "id": "e7q0GtfuDya4",
      "metadata": {
        "id": "e7q0GtfuDya4"
      },
      "source": [
        "<details>\n",
        "    <summary style=\"display:list-item; font-size:16px; color:blue;\"><i>What did we discover in this step? Toggle to check!</i></summary>\n",
        "\n",
        "By adding another layer to our regression plot, we can see the difference between the predicted and real crash rates in February 2020. This allows us to see how these values compare to the rest of the dataset. \n",
        "\n",
        "</details>"
      ]
    }
  ],
  "metadata": {
    "colab": {
      "provenance": [],
      "include_colab_link": true
    },
    "kernelspec": {
      "display_name": "Python 3 (ipykernel)",
      "language": "python",
      "name": "python3"
    },
    "language_info": {
      "codemirror_mode": {
        "name": "ipython",
        "version": 3
      },
      "file_extension": ".py",
      "mimetype": "text/x-python",
      "name": "python",
      "nbconvert_exporter": "python",
      "pygments_lexer": "ipython3",
      "version": "3.8.10"
    }
  },
  "nbformat": 4,
  "nbformat_minor": 5
}